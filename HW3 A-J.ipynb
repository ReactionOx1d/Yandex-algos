{
 "cells": [
  {
   "cell_type": "code",
   "execution_count": 5,
   "metadata": {},
   "outputs": [
    {
     "name": "stdout",
     "output_type": "stream",
     "text": [
      "1 2 3 2 1\n",
      "3\n"
     ]
    }
   ],
   "source": [
    "#A\n",
    "print (len(set(list(map(int, input().split())))))"
   ]
  },
  {
   "cell_type": "code",
   "execution_count": 53,
   "metadata": {},
   "outputs": [],
   "source": [
    "class my_set ():\n",
    "    def __init__(self):\n",
    "        self.myset = [[] for _ in range(50)]\n",
    "    \n",
    "    def add(self, x):\n",
    "        for now in self.myset[x % 50]:\n",
    "            if now == x:\n",
    "                break\n",
    "        else:\n",
    "            self.myset[x % 50].append(x)\n",
    "    \n",
    "    def find(self, x):\n",
    "        for now in self.myset[x % 50]:\n",
    "            if now == x:\n",
    "                return True\n",
    "        return False\n",
    "    \n",
    "    def delete(self, x):\n",
    "        xlist = self.myset[x % 50]\n",
    "        for i in range(len(xlist)):\n",
    "            if xlist[i] == x:\n",
    "                xlist[i] = xlist[len(xlist) - 1]\n",
    "                xlist.pop()\n",
    "                return"
   ]
  },
  {
   "cell_type": "code",
   "execution_count": 84,
   "metadata": {},
   "outputs": [
    {
     "name": "stdout",
     "output_type": "stream",
     "text": [
      "1 2 3 4\n",
      "3 4 5 6\n",
      "3 4\n"
     ]
    }
   ],
   "source": [
    "#B\n",
    "print(*sorted((set(map(int, input().split()))&set(map(int, input().split())))))"
   ]
  },
  {
   "cell_type": "code",
   "execution_count": 25,
   "metadata": {},
   "outputs": [
    {
     "name": "stdout",
     "output_type": "stream",
     "text": [
      "4 3\n",
      "0\n",
      "1\n",
      "9\n",
      "10\n",
      "0\n",
      "1\n",
      "3\n"
     ]
    }
   ],
   "source": [
    "#C\n",
    "N, M = map(int,input().split())\n",
    "a = set([int(input()) for x in range(N)])\n",
    "b = set([int(input()) for x in range(M)])\n",
    "intersect = a&b\n",
    "print(len(intersect))\n",
    "print(*sorted((intersect)))\n",
    "print(len(a-b))\n",
    "print(*sorted((a-intersect)))\n",
    "print(len(b-a))\n",
    "print(*sorted((b-intersect)))"
   ]
  },
  {
   "cell_type": "code",
   "execution_count": 37,
   "metadata": {},
   "outputs": [
    {
     "name": "stdout",
     "output_type": "stream",
     "text": [
      "0\n"
     ]
    }
   ],
   "source": [
    "#D\n",
    "import sys\n",
    "print(len(set(sys.stdin.read().split())))"
   ]
  },
  {
   "cell_type": "code",
   "execution_count": 68,
   "metadata": {},
   "outputs": [
    {
     "name": "stdout",
     "output_type": "stream",
     "text": [
      "5 7 3\n",
      "123\n",
      "2\n"
     ]
    }
   ],
   "source": [
    "#E\n",
    "set_x_y_z = set(map(int,input().split()))\n",
    "N = set(list(map(int,list(str(input())))))\n",
    "print(len(N-set_x_y_z))"
   ]
  },
  {
   "cell_type": "code",
   "execution_count": 70,
   "metadata": {},
   "outputs": [
    {
     "name": "stdout",
     "output_type": "stream",
     "text": [
      "ABBACAB\n",
      "BCABB\n"
     ]
    }
   ],
   "source": [
    "#F\n",
    "first = input()\n",
    "second = input()\n",
    "set_second = set()\n",
    "for i in range(1,len(second)):\n",
    "    set_second.add(second[i-1:i+1])\n",
    "\n",
    "count = 0\n",
    "for i in range(1,len(first)):\n",
    "    if (first[i-1:i+1] in set_second):\n",
    "        count += 1"
   ]
  },
  {
   "cell_type": "code",
   "execution_count": 36,
   "metadata": {},
   "outputs": [
    {
     "name": "stdout",
     "output_type": "stream",
     "text": [
      "3\n",
      "1 1\n",
      "0 2\n",
      "2 0\n",
      "3\n"
     ]
    }
   ],
   "source": [
    "#G\n",
    "N = int(input())\n",
    "my_set = set()\n",
    "count  = 0\n",
    "for i in range(N):\n",
    "    (a,b) = map(int, input().split())\n",
    "    if (a + b + 1) == N and (a,b) not in my_set and (a>=0 and b>=0):\n",
    "        count += 1\n",
    "        my_set.add((a,b))\n",
    "print(count)"
   ]
  },
  {
   "cell_type": "code",
   "execution_count": 38,
   "metadata": {},
   "outputs": [
    {
     "name": "stdout",
     "output_type": "stream",
     "text": [
      "6\n",
      "1 1\n",
      "2 2\n",
      "2 1\n",
      "3 1\n",
      "3 2\n",
      "3 3\n",
      "3\n"
     ]
    }
   ],
   "source": [
    "#H\n",
    "N = int(input())\n",
    "my_set = set()\n",
    "for i in range(N):\n",
    "    a,b = map(int, input().split())\n",
    "    my_set.add(a)\n",
    "print(len(my_set))"
   ]
  },
  {
   "cell_type": "code",
   "execution_count": 3,
   "metadata": {},
   "outputs": [
    {
     "ename": "KeyboardInterrupt",
     "evalue": "Interrupted by user",
     "output_type": "error",
     "traceback": [
      "\u001b[1;31m---------------------------------------------------------------------------\u001b[0m",
      "\u001b[1;31mKeyboardInterrupt\u001b[0m                         Traceback (most recent call last)",
      "\u001b[1;32m<ipython-input-3-9c4d397c98e8>\u001b[0m in \u001b[0;36m<module>\u001b[1;34m\u001b[0m\n\u001b[0;32m      1\u001b[0m \u001b[1;31m#I\u001b[0m\u001b[1;33m\u001b[0m\u001b[1;33m\u001b[0m\u001b[1;33m\u001b[0m\u001b[0m\n\u001b[1;32m----> 2\u001b[1;33m \u001b[0mN\u001b[0m \u001b[1;33m=\u001b[0m \u001b[0mint\u001b[0m\u001b[1;33m(\u001b[0m\u001b[0minput\u001b[0m\u001b[1;33m(\u001b[0m\u001b[1;33m)\u001b[0m\u001b[1;33m)\u001b[0m\u001b[1;33m\u001b[0m\u001b[1;33m\u001b[0m\u001b[0m\n\u001b[0m\u001b[0;32m      3\u001b[0m \u001b[1;33m\u001b[0m\u001b[0m\n\u001b[0;32m      4\u001b[0m \u001b[0mall_knows\u001b[0m \u001b[1;33m=\u001b[0m \u001b[0mset\u001b[0m\u001b[1;33m(\u001b[0m\u001b[1;33m)\u001b[0m\u001b[1;33m\u001b[0m\u001b[1;33m\u001b[0m\u001b[0m\n\u001b[0;32m      5\u001b[0m \u001b[0mat_least_one_knows\u001b[0m \u001b[1;33m=\u001b[0m \u001b[0mset\u001b[0m\u001b[1;33m(\u001b[0m\u001b[1;33m)\u001b[0m\u001b[1;33m\u001b[0m\u001b[1;33m\u001b[0m\u001b[0m\n",
      "\u001b[1;32m~\\anaconda3\\lib\\site-packages\\ipykernel\\kernelbase.py\u001b[0m in \u001b[0;36mraw_input\u001b[1;34m(self, prompt)\u001b[0m\n\u001b[0;32m    858\u001b[0m                 \u001b[1;34m\"raw_input was called, but this frontend does not support input requests.\"\u001b[0m\u001b[1;33m\u001b[0m\u001b[1;33m\u001b[0m\u001b[0m\n\u001b[0;32m    859\u001b[0m             )\n\u001b[1;32m--> 860\u001b[1;33m         return self._input_request(str(prompt),\n\u001b[0m\u001b[0;32m    861\u001b[0m             \u001b[0mself\u001b[0m\u001b[1;33m.\u001b[0m\u001b[0m_parent_ident\u001b[0m\u001b[1;33m,\u001b[0m\u001b[1;33m\u001b[0m\u001b[1;33m\u001b[0m\u001b[0m\n\u001b[0;32m    862\u001b[0m             \u001b[0mself\u001b[0m\u001b[1;33m.\u001b[0m\u001b[0m_parent_header\u001b[0m\u001b[1;33m,\u001b[0m\u001b[1;33m\u001b[0m\u001b[1;33m\u001b[0m\u001b[0m\n",
      "\u001b[1;32m~\\anaconda3\\lib\\site-packages\\ipykernel\\kernelbase.py\u001b[0m in \u001b[0;36m_input_request\u001b[1;34m(self, prompt, ident, parent, password)\u001b[0m\n\u001b[0;32m    902\u001b[0m             \u001b[1;32mexcept\u001b[0m \u001b[0mKeyboardInterrupt\u001b[0m\u001b[1;33m:\u001b[0m\u001b[1;33m\u001b[0m\u001b[1;33m\u001b[0m\u001b[0m\n\u001b[0;32m    903\u001b[0m                 \u001b[1;31m# re-raise KeyboardInterrupt, to truncate traceback\u001b[0m\u001b[1;33m\u001b[0m\u001b[1;33m\u001b[0m\u001b[1;33m\u001b[0m\u001b[0m\n\u001b[1;32m--> 904\u001b[1;33m                 \u001b[1;32mraise\u001b[0m \u001b[0mKeyboardInterrupt\u001b[0m\u001b[1;33m(\u001b[0m\u001b[1;34m\"Interrupted by user\"\u001b[0m\u001b[1;33m)\u001b[0m \u001b[1;32mfrom\u001b[0m \u001b[1;32mNone\u001b[0m\u001b[1;33m\u001b[0m\u001b[1;33m\u001b[0m\u001b[0m\n\u001b[0m\u001b[0;32m    905\u001b[0m             \u001b[1;32mexcept\u001b[0m \u001b[0mException\u001b[0m \u001b[1;32mas\u001b[0m \u001b[0me\u001b[0m\u001b[1;33m:\u001b[0m\u001b[1;33m\u001b[0m\u001b[1;33m\u001b[0m\u001b[0m\n\u001b[0;32m    906\u001b[0m                 \u001b[0mself\u001b[0m\u001b[1;33m.\u001b[0m\u001b[0mlog\u001b[0m\u001b[1;33m.\u001b[0m\u001b[0mwarning\u001b[0m\u001b[1;33m(\u001b[0m\u001b[1;34m\"Invalid Message:\"\u001b[0m\u001b[1;33m,\u001b[0m \u001b[0mexc_info\u001b[0m\u001b[1;33m=\u001b[0m\u001b[1;32mTrue\u001b[0m\u001b[1;33m)\u001b[0m\u001b[1;33m\u001b[0m\u001b[1;33m\u001b[0m\u001b[0m\n",
      "\u001b[1;31mKeyboardInterrupt\u001b[0m: Interrupted by user"
     ]
    }
   ],
   "source": [
    "#I\n",
    "N = int(input())\n",
    "\n",
    "all_knows = set()\n",
    "at_least_one_knows = set()\n",
    "temp_set = set()\n",
    "\n",
    "for i in range(N):\n",
    "    m = int(input())\n",
    "    temp_set = set()\n",
    "    for j in range(m):\n",
    "        temp_set.add(input())\n",
    "    \n",
    "    if i == 0:\n",
    "        all_knows = temp_set.copy()\n",
    "        at_least_one_knows = temp_set.copy()\n",
    "    else:\n",
    "        all_knows = all_knows&temp_set\n",
    "        at_least_one_knows = at_least_one_knows|temp_set\n",
    "        \n",
    "        \n",
    "print(len(all_knows))\n",
    "if len(all_knows) > 0:\n",
    "    for country in all_knows:\n",
    "        print(country)\n",
    "print(len(at_least_one_knows))\n",
    "if len(at_least_one_knows) > 0:\n",
    "    for country in at_least_one_knows:\n",
    "        print(country)"
   ]
  },
  {
   "cell_type": "code",
   "execution_count": 4,
   "metadata": {},
   "outputs": [],
   "source": [
    "#No solution"
   ]
  },
  {
   "cell_type": "code",
   "execution_count": null,
   "metadata": {},
   "outputs": [],
   "source": []
  }
 ],
 "metadata": {
  "kernelspec": {
   "display_name": "Python 3",
   "language": "python",
   "name": "python3"
  },
  "language_info": {
   "codemirror_mode": {
    "name": "ipython",
    "version": 3
   },
   "file_extension": ".py",
   "mimetype": "text/x-python",
   "name": "python",
   "nbconvert_exporter": "python",
   "pygments_lexer": "ipython3",
   "version": "3.8.5"
  }
 },
 "nbformat": 4,
 "nbformat_minor": 4
}
