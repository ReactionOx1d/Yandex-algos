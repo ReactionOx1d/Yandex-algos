{
 "cells": [
  {
   "cell_type": "code",
   "execution_count": 62,
   "metadata": {},
   "outputs": [
    {
     "name": "stdout",
     "output_type": "stream",
     "text": [
      "-2 -1 0 1 2\n",
      "YES\n"
     ]
    }
   ],
   "source": [
    "#A\n",
    "seq = list(map(int, input().split()))\n",
    "def is_monotonic_seq (seq):\n",
    "    if len(seq) == 0:\n",
    "        return 'YES'\n",
    "    init = seq[0]\n",
    "    for i in range(1, len(seq)):\n",
    "        if seq[i] > init:\n",
    "            init = seq[i]\n",
    "        else:\n",
    "            return 'NO'\n",
    "    return 'YES'\n",
    "print(is_monotonic_seq(seq))"
   ]
  },
  {
   "cell_type": "code",
   "execution_count": 99,
   "metadata": {},
   "outputs": [
    {
     "name": "stdout",
     "output_type": "stream",
     "text": [
      "1\n",
      "-2000000000\n",
      "None\n"
     ]
    }
   ],
   "source": [
    "#B\n",
    "spisok = []\n",
    "prev = int(input())\n",
    "\n",
    "type_seq = 'None'\n",
    "\n",
    "while True:\n",
    "    neext = int(input())\n",
    "    if neext == -2000000000:\n",
    "        break\n",
    "        \n",
    "    if (neext == prev):\n",
    "        if (type_seq == 'None' or type_seq == 'CONSTANT'):\n",
    "            type_seq = 'CONSTANT'\n",
    "            \n",
    "        elif (type_seq == 'ASCENDING'):\n",
    "            type_seq = 'WEAKLY ASCENDING'\n",
    "            \n",
    "        elif (type_seq == 'DESCENDING'):\n",
    "            type_seq = 'WEAKLY DESCENDING'\n",
    "        \n",
    "        \n",
    "        \n",
    "    elif (neext > prev):\n",
    "        if (type_seq == 'CONSTANT'):\n",
    "            type_seq = 'WEAKLY ASCENDING'\n",
    "            \n",
    "        elif (type_seq == 'DESCENDING' or type_seq == 'WEAKLY DESCENDING'):\n",
    "            type_seq = 'RANDOM'\n",
    "            \n",
    "        elif (type_seq == 'None'):\n",
    "            type_seq = 'ASCENDING'\n",
    "            \n",
    "            \n",
    "    elif (neext < prev):\n",
    "        if (type_seq == 'CONSTANT'):\n",
    "            type_seq = 'WEAKLY DESCENDING'\n",
    "        \n",
    "        elif (type_seq == 'ASCENDING' or type_seq == 'WEAKLY ASCENDING'):\n",
    "            type_seq = 'RANDOM'\n",
    "            \n",
    "        elif (type_seq == 'None'):\n",
    "            type_seq = 'DESCENDING'\n",
    "    prev = neext\n",
    "\n",
    "            \n",
    "print(type_seq)            "
   ]
  },
  {
   "cell_type": "code",
   "execution_count": null,
   "metadata": {},
   "outputs": [],
   "source": []
  },
  {
   "cell_type": "code",
   "execution_count": 118,
   "metadata": {},
   "outputs": [
    {
     "name": "stdout",
     "output_type": "stream",
     "text": [
      "2\n",
      "1 2\n",
      "-5\n",
      "1\n"
     ]
    }
   ],
   "source": [
    "#C\n",
    "N = int(input())\n",
    "spisok = list(map(int, input().split()))\n",
    "x = int(input())\n",
    "\n",
    "nearest = spisok[0]\n",
    "dist = abs(x - nearest)\n",
    "for i in range(1,N):\n",
    "    if (abs(x - spisok[i]) < dist):\n",
    "        nearest = spisok[i]\n",
    "        dist = abs(x - nearest)\n",
    "print(nearest)"
   ]
  },
  {
   "cell_type": "code",
   "execution_count": null,
   "metadata": {},
   "outputs": [],
   "source": []
  },
  {
   "cell_type": "code",
   "execution_count": 1,
   "metadata": {},
   "outputs": [
    {
     "name": "stdout",
     "output_type": "stream",
     "text": [
      "1 2 3 4 5\n",
      "0\n"
     ]
    }
   ],
   "source": [
    "#D\n",
    "spisok = list(map(int, input().split()))\n",
    "def two_nearest_more (spisok):\n",
    "    ans = 0\n",
    "    if len(spisok) <= 2:\n",
    "        return ans\n",
    "    else:\n",
    "        for i in range(1, len(spisok) - 1):\n",
    "            if (spisok[i] > spisok[i-1]) and (spisok[i] > spisok[i+1]):\n",
    "                ans +=1\n",
    "        return ans\n",
    "print(two_nearest_more (spisok))"
   ]
  },
  {
   "cell_type": "code",
   "execution_count": null,
   "metadata": {},
   "outputs": [],
   "source": []
  },
  {
   "cell_type": "code",
   "execution_count": null,
   "metadata": {},
   "outputs": [],
   "source": [
    "#E\n",
    "n = int(input())\n",
    "spisok = list(map(int, input().split()))\n",
    "\n",
    "max_number_index = 0\n",
    "is_best = False\n",
    "index_best = -1\n",
    "\n",
    "for i in range(1, n-1):\n",
    "    if  (spisok[i] > spisok[max_number_index]):\n",
    "        max_number_index = i \n",
    "    elif (spisok[i] % 10 == 5):\n",
    "        if (spisok[i] > spisok[i+1]):\n",
    "            if (index_best == -1 or spisok[max_number_index] > current_max):\n",
    "                is_best = True\n",
    "                index_best = i\n",
    "                current_max = spisok[max_number_index]   \n",
    "            elif (spisok[max_number_index] == current_max and spisok[i] > spisok[index_best]):\n",
    "                index_best = i\n",
    "\n",
    "if (spisok[-1] > spisok[max_number_index]):\n",
    "    max_number_index = spisok[n-1]\n",
    "                \n",
    "if is_best and index_best > max_number_index:\n",
    "    count = 0\n",
    "    for i in spisok:\n",
    "        if i > spisok[index_best]:\n",
    "            count += 1\n",
    "    print(count+1)\n",
    "else:\n",
    "    print(0)                    "
   ]
  },
  {
   "cell_type": "code",
   "execution_count": null,
   "metadata": {},
   "outputs": [],
   "source": []
  },
  {
   "cell_type": "code",
   "execution_count": 128,
   "metadata": {},
   "outputs": [],
   "source": [
    "#F\n",
    "n = int(input())\n",
    "spisok = list(map(int, input().split()))\n",
    "def is_symm(seq):\n",
    "    for i in range(len(seq) // 2):\n",
    "        if (seq[i] != seq[-i-1]):\n",
    "            return False\n",
    "    return True\n",
    "\n",
    "for i in range(n):\n",
    "    if is_symm(spisok[i:]):\n",
    "        subseq = list(reversed(spisok[:i]))\n",
    "        break\n",
    "print(len(subseq))\n",
    "if len(subseq):\n",
    "    print(' '.join(map(str,subseq)))"
   ]
  },
  {
   "cell_type": "code",
   "execution_count": 55,
   "metadata": {},
   "outputs": [],
   "source": [
    "#spisok = [12288, -10075, 29710, 15686, -18900, -17715, 15992, 24431, 6220, 28403, -23148, 18480, -22905, 5411, -7602, 15560, -26674, 11109, -4323, 6146, -1523, 4312, 10666, -15343, -17679, 7284, 20709, -7103, 24305, 14334, -12281, 17314, 26061, 25616, 17453, 16618, -24230, -19788, 21172, 11339, 2202, -22442, -20997, 1879, -8773, -8736, 5310, -23372, 12621, -25596, -28609, -13309, -13, 10336, 15812, -21193, 21576, -1897, -12311, -6988, -25143, -3501, 23231, 26610, 12618, 25834, -29140, 21011, 23427, 1494, 15215, 23013, -15739, 8325, 5359, -12932, 18111, -72, -12509, 20116, 24390, 1920, 17487, 25536, 24934, -6784, -16417, -2222, -16569, -25594, 4491, 14249, -28927, 27281, 3297, 5998, 6259, 4577, 12415, 3779, -8856, 3994, 19941, 11047, 2866, -24443, -17299, -9556, 12244, 6376, -13694, -14647, -22225, 21872, 7543, -6935, 17736, -2464, 9390, 1133, 18202 ,-9733 ,-26011, 13474, 29793, -26628, -26124, 27776 ,970 ,14277, -23213, 775, -9318, 29014, -5645, -27027 ,-21822 ,-17450, -5, -655, 22807, -20981 ,16310 ,27605, -18393, 914 ,7323, 599, -12503, -28684, 5835 ,-5627 ,25891, -11801, 21243, -21506, 22542 ,-5097 ,8115 ,178, 10427, 25808,10836, -11213, 18488, 21293, 14652, 12260 ,42 ,21034 ,8396, -27956 ,13670, -296, -757 ,18076, -15597 ,4135 ,-25222 ,-19603, 8007, 6012, 2704 ,28935, 16188, -20848, 13502, -11950 ,-24466, 5440 ,26348, 27378, 7990, -11523, -26393] \n",
    "#spisok = [-4, 3, -5, 2, 5]"
   ]
  },
  {
   "cell_type": "code",
   "execution_count": 68,
   "metadata": {},
   "outputs": [
    {
     "name": "stdout",
     "output_type": "stream",
     "text": [
      "-4 -5\n",
      "-5 -4\n"
     ]
    }
   ],
   "source": [
    "#G\n",
    "spisok = list(map(int,input().split()))\n",
    "max_1 = spisok[0]\n",
    "max_2 = spisok[1]\n",
    "\n",
    "min_1 = spisok[0]\n",
    "min_2 = spisok[1]\n",
    "\n",
    "for i in range(2,len(spisok)):\n",
    "    if (spisok[i] > max_1 or spisok[i] > max_2):\n",
    "        if (max_1 > max_2):\n",
    "            max_2 = max_1\n",
    "        max_1 = spisok[i]\n",
    "    elif (spisok[i] > max_2):\n",
    "        if (max_2 > max_1):\n",
    "            max_1 = max_2\n",
    "        max_2 = spisok[i]\n",
    "    if (spisok[i] < min_1):\n",
    "        if (min_1 < min_2):\n",
    "            min_2 = min_1\n",
    "        min_1 = spisok[i]\n",
    "    elif (spisok[i] < min_2):\n",
    "        if (min_2 < min_1):\n",
    "            min_1 = min_2\n",
    "        min_2 = spisok[i]\n",
    "        \n",
    "        \n",
    "        \n",
    "if (max_1 * max_2 > min_1*min_2):\n",
    "    if (max_1<max_2):\n",
    "        print(max_1, max_2)\n",
    "    else:\n",
    "        print(max_2, max_1)\n",
    "else:\n",
    "    if (min_1 < min_2):\n",
    "        print(min_1, min_2)\n",
    "    else:\n",
    "        print(min_2, min_1)"
   ]
  },
  {
   "cell_type": "code",
   "execution_count": 1,
   "metadata": {},
   "outputs": [],
   "source": [
    "#H\n",
    "'''spisok = [12288, -10075, 29710, 15686, -18900, -17715, 15992, 24431, 6220, 28403, -23148, 18480, -22905, 5411, -7602, 15560,\n",
    "     -26674, 11109, -4323, 6146, -1523, 4312, 10666, -15343, -17679, 7284, 20709, -7103, 24305, 14334, -12281, 17314,\n",
    "     26061, 25616, 17453, 16618, -24230, -19788, 21172, 11339, 2202, -22442, -20997, 1879, -8773, -8736, 5310, -23372,\n",
    "     12621, -25596, -28609, -13309, -13, 10336, 15812, -21193, 21576, -1897, -12311, -6988, -25143, -3501, 23231, 26610,\n",
    "     12618, 25834, -29140, 21011, 23427, 1494, 15215, 23013, -15739, 8325, 5359, -12932, 18111, -72, -12509, 20116,\n",
    "     24390, 1920, 17487, 25536, 24934, -6784, -16417, -2222, -16569, -25594, 4491, 14249, -28927, 27281, 3297, 5998,\n",
    "     6259, 4577, 12415, 3779, -8856, 3994, 19941, 11047, 2866, -24443, -17299, -9556, 12244, 6376, -13694, -14647,\n",
    "     -22225, 21872, 7543, -6935, 17736, -2464, 9390, 1133, 18202, -9733, -26011, 13474, 29793, -26628, -26124, 27776,\n",
    "     970, 14277, -23213, 775, -9318, 29014, -5645, -27027, -21822, -17450, -5, -655, 22807, -20981, 16310, 27605,\n",
    "     -18393, 914, 7323, 599, -12503, -28684, 5835, -5627, 25891, -11801, 21243, -21506, 22542, -5097, 8115, 178, 10427,\n",
    "     25808, 10836, -11213, 18488, 21293, 14652, 12260, 42, 21034, 8396, -27956, 13670, -296, -757, 18076, -15597, 4135,\n",
    "     -25222, -19603, 8007, 6012, 2704, 28935, 16188, -20848, 13502, -11950, -24466, 5440, 26348, 27378, 7990, -11523,\n",
    "     -26393\n",
    "     ]'''"
   ]
  },
  {
   "cell_type": "code",
   "execution_count": 3,
   "metadata": {},
   "outputs": [
    {
     "name": "stdout",
     "output_type": "stream",
     "text": [
      "-1 -2 -1000\n"
     ]
    }
   ],
   "source": [
    "spisok = list(map(int,input().split()))\n",
    "max_1 = spisok[0]\n",
    "max_2 = spisok[1]\n",
    "max_3 = spisok[2]\n",
    "max_1,max_2,max_3=sorted([max_1,max_2,max_3], reverse = True)\n",
    "\n",
    "min_1 = spisok[0]\n",
    "min_2 = spisok[1]\n",
    "min_1, min_2 = sorted([min_1, min_2, spisok[2]])[:2]\n",
    "for num in spisok[3:]:\n",
    "    if (num > max_1):\n",
    "        max_3,max_2,max_1 = max_2, max_1,num\n",
    "    elif (num > max_2):\n",
    "        max_3, max_2 = max_2, num\n",
    "    elif (num > max_3):\n",
    "        max_3 = num\n",
    "    if (num < min_1):\n",
    "        min_2, min_1 = min_1,num\n",
    "    elif (num < min_2):\n",
    "        min_2 = num\n",
    "        \n",
    "if (max_1 * max_2 * max_3 > max_1 * min_1 * min_2):\n",
    "    print (max_1, max_2, max_3)\n",
    "else:\n",
    "    print (max_1, min_1, min_2)"
   ]
  },
  {
   "cell_type": "code",
   "execution_count": 89,
   "metadata": {},
   "outputs": [
    {
     "name": "stdout",
     "output_type": "stream",
     "text": [
      "3 2 2\n",
      "1 1\n",
      "2 2\n",
      "* 3\n",
      "2 *\n",
      "2 3\n"
     ]
    }
   ],
   "source": [
    "#I\n",
    "N, M, K = list(map(int, input().split()))\n",
    "mines = [tuple(map(int, input().split()))  for i in range(K)]\n",
    "field = [[0 for i in range(M)] for i in range(N)]\n",
    "\n",
    "for mine_x, mine_y in mines:\n",
    "    field[mine_x - 1][mine_y - 1] = '*'\n",
    "    for i in range(-1, 2):\n",
    "        for j in range(-1,2):\n",
    "            if (mine_x-1 + i) <N and (mine_y-1 + j) < M and (mine_x-1 + i) >=0 and (mine_y-1+j)>=0:\n",
    "                if field[mine_x-1 +i][mine_y-1 + j] == '*': \n",
    "                    continue\n",
    "                else: \n",
    "                    field[mine_x-1 + i][mine_y-1 + j] +=1\n",
    "                    \n",
    "for row in field:\n",
    "    print(' '.join(list(map(str, row))))"
   ]
  },
  {
   "cell_type": "code",
   "execution_count": 82,
   "metadata": {},
   "outputs": [],
   "source": []
  }
 ],
 "metadata": {
  "kernelspec": {
   "display_name": "Python 3",
   "language": "python",
   "name": "python3"
  },
  "language_info": {
   "codemirror_mode": {
    "name": "ipython",
    "version": 3
   },
   "file_extension": ".py",
   "mimetype": "text/x-python",
   "name": "python",
   "nbconvert_exporter": "python",
   "pygments_lexer": "ipython3",
   "version": "3.8.5"
  }
 },
 "nbformat": 4,
 "nbformat_minor": 4
}
