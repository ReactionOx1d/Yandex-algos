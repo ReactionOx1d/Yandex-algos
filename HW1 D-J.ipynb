{
 "cells": [
  {
   "cell_type": "code",
   "execution_count": 20,
   "metadata": {},
   "outputs": [
    {
     "name": "stdout",
     "output_type": "stream",
     "text": [
      "1\n",
      "2\n",
      "3\n",
      "7\n"
     ]
    }
   ],
   "source": [
    "#D\n",
    "a= int(input())\n",
    "b = int(input())\n",
    "c = int(input())\n",
    "\n",
    "def solution(a ,b ,c):\n",
    "    if (c <0):\n",
    "        return 'NO SOLUTION'\n",
    "    if (a == 0):\n",
    "        if (b == c**2):\n",
    "            return 'MANY SOLUTIONS'\n",
    "        else:\n",
    "            return 'NO SOLUTION'\n",
    "    temp = (c**2 -b) \n",
    "    if temp % a == 0:\n",
    "        return int(temp/a)\n",
    "    else:\n",
    "        return 'NO SOLUTION'\n",
    "\n",
    "print(solution(a,b,c))"
   ]
  },
  {
   "cell_type": "code",
   "execution_count": 1,
   "metadata": {},
   "outputs": [],
   "source": [
    "#E\n",
    "#K1,M,K2,P2,N2 = 89,20,41,1,11\n",
    "#K1,M,K2,P2,N2 = 11, 2, 4, 1, 2\n",
    "#K1,M,K2,P2,N2 = 3, 2, 2, 2, 1\n",
    "#K1,M,K2,P2,N2 = 9, 2, 3, 1, 1\n",
    "#K1,M,K2,P2,N2 = 10, 1, 4, 4, 1\n",
    "#K1,M,K2,P2,N2 = 5, 20, 2, 1, 1\n",
    "#K1,M,K2,P2,N2 = 11, 1, 1, 1, 1\n",
    "#K1,M,K2,P2,N2 = 25, 3, 1, 1, 1\n",
    "K1,M,K2,P2,N2 = 3, 1, 9, 7, 3"
   ]
  },
  {
   "cell_type": "code",
   "execution_count": 2,
   "metadata": {},
   "outputs": [
    {
     "name": "stdout",
     "output_type": "stream",
     "text": [
      "-1 -1\n"
     ]
    }
   ],
   "source": [
    "#K1,M,K2,P2,N2 = map(int,input().split())\n",
    "def resh(K1,M,K2,P2,N2):\n",
    "    num_apart_per_floor = []\n",
    "    ans_entr = 0\n",
    "    ans_floor = 0\n",
    "    total_number_of_floors = M*(P2-1) + N2\n",
    "    i = 1\n",
    "    while (total_number_of_floors*i / K2  <= 2):\n",
    "        if (0<(K2 - (total_number_of_floors-1)*i)<=i):\n",
    "            num_apart_per_floor.append(i)\n",
    "        i += 1\n",
    "\n",
    "    possible_entrances = []\n",
    "    possible_floors = []\n",
    "    for avg in num_apart_per_floor:\n",
    "        apart_in_house = (K1-1) % (M*avg)\n",
    "        possible_entrances.append((K1-1) // (M*avg) + 1)\n",
    "        possible_floors.append((apart_in_house)//avg + 1)\n",
    "    possible_entrances = list(set(possible_entrances))\n",
    "    possible_floors = list(set(possible_floors))\n",
    "    if (len(possible_entrances) == 1):\n",
    "        ans_entr = possible_entrances[0]\n",
    "    if (len(possible_floors) == 1):\n",
    "        ans_floor = possible_floors[0]\n",
    "        \n",
    "    if (M*(P2-1)+N2 > K2) or (N2 > M):\n",
    "        return -1,-1\n",
    "    if (P2 == 1) and (N2 == 1):\n",
    "        if (K1 <= K2):\n",
    "            return 1,1\n",
    "        elif (K1-1)//K2 < M:\n",
    "            ans_entr = 1\n",
    "        else:\n",
    "            ans_entr = 0\n",
    "        ans_floor = 0\n",
    "    if (M == 1):\n",
    "        ans_floor = 1\n",
    "    if (len(num_apart_per_floor) == 0):\n",
    "        return -1,-1\n",
    "    return ans_entr, ans_floor\n",
    "a,b = resh(K1,M,K2,P2,N2)\n",
    "print(a,b)"
   ]
  },
  {
   "cell_type": "code",
   "execution_count": 469,
   "metadata": {},
   "outputs": [],
   "source": [
    "#F\n",
    "a,b,c,d = 3, 5, 6, 4"
   ]
  },
  {
   "cell_type": "code",
   "execution_count": 491,
   "metadata": {},
   "outputs": [
    {
     "name": "stdout",
     "output_type": "stream",
     "text": [
      "6 7\n"
     ]
    }
   ],
   "source": [
    "a,b,c,d = map(int,input().split())\n",
    "square_min = max(a,c) * (b+d)\n",
    "max_a = max(a,c)\n",
    "max_b = b+d\n",
    "if ((max(a,d)*(b+c)) < square_min):\n",
    "    square_min = max(a,d)*(b+c)\n",
    "    max_a = max(a,d)\n",
    "    max_b = (b+c)\n",
    "if ((max(b,d)*(a+c)) < square_min):\n",
    "    square_min = max(b,d)*(a+c)\n",
    "    max_a = max(b,d)\n",
    "    max_b = a+c\n",
    "if ((max(b,c)*(d+a)) < square_min):\n",
    "    max_a = max(b,c)\n",
    "    max_b = d+a\n",
    "print(max_a, max_b)"
   ]
  },
  {
   "cell_type": "code",
   "execution_count": 533,
   "metadata": {},
   "outputs": [],
   "source": [
    "#G\n",
    "N,K,M  = map(int,input().split())\n",
    "if (K<M):\n",
    "    print(0)\n",
    "else: \n",
    "    c_m = 0\n",
    "    while(N >= K ):\n",
    "        c_k = N//K\n",
    "        c_m += c_k*(K//M)\n",
    "        N -= c_k*(K//M)*M\n",
    "    print(c_m)"
   ]
  },
  {
   "cell_type": "code",
   "execution_count": 47,
   "metadata": {},
   "outputs": [
    {
     "name": "stdout",
     "output_type": "stream",
     "text": [
      "1\n",
      "3\n",
      "3\n",
      "2\n",
      "5 7\n"
     ]
    }
   ],
   "source": [
    "#H\n",
    "a = int(input())\n",
    "b = int(input())\n",
    "n = int(input())\n",
    "m = int(input())\n",
    "\n",
    "min_1 = n+(n-1)*a\n",
    "max_1 = n+(n+1)*a\n",
    "min_2 = m+(m-1)*b\n",
    "max_2 = m+(m+1)*b\n",
    "\n",
    "if (min_1 > min_2):\n",
    "    max_min = min_1\n",
    "else:\n",
    "    max_min = min_2\n",
    "\n",
    "if (max_1 > max_2):\n",
    "    min_max = max_2\n",
    "else:\n",
    "    min_max = max_1\n",
    "    \n",
    "if (max_min > min_max):\n",
    "    print(-1)\n",
    "else:\n",
    "    print(max_min, min_max)"
   ]
  },
  {
   "cell_type": "code",
   "execution_count": 54,
   "metadata": {},
   "outputs": [
    {
     "name": "stdout",
     "output_type": "stream",
     "text": [
      "NO\n"
     ]
    }
   ],
   "source": [
    "#a,b,c,d,e = 562, 2775, 5599, 88, 4692\n",
    "#I\n",
    "a = int(input())\n",
    "b = int(input())\n",
    "c = int(input())\n",
    "d = int(input())\n",
    "e = int(input())\n",
    "\n",
    "if (a<=d and b<=e) or (a<=e and b<=d):\n",
    "    print('YES')\n",
    "elif (a<=d and c<=e) or (a<=e and c<=d):\n",
    "    print('YES')\n",
    "elif (b<=d and c<=e) or (c<=d and b<=e):\n",
    "    print('YES')\n",
    "else:\n",
    "    print('NO')"
   ]
  },
  {
   "cell_type": "code",
   "execution_count": 81,
   "metadata": {},
   "outputs": [],
   "source": [
    "#a,b,c,d,e,f = 1, 0, 0, 1, 3, 3\n",
    "#a,b,c,d,e,f = 1, 1, 2, 2, 1, 2"
   ]
  },
  {
   "cell_type": "code",
   "execution_count": 238,
   "metadata": {},
   "outputs": [
    {
     "name": "stdout",
     "output_type": "stream",
     "text": [
      "1\n",
      "2\n",
      "0\n",
      "0\n",
      "5\n",
      "0\n",
      "1 -0.5 2.5\n"
     ]
    }
   ],
   "source": [
    "#J\n",
    "a = float(input())\n",
    "b = float(input())\n",
    "c = float(input())\n",
    "d = float(input())\n",
    "e = float(input())\n",
    "f = float(input())\n",
    "\n",
    "def solve_eq_2(a,b,e,c,d,f):\n",
    "    \n",
    "    if a == 0 and b == 0 and c==0 and d == 0:#Случай 6\n",
    "        if (e==f==0):\n",
    "            return (5,)\n",
    "        else:\n",
    "            return (0,)\n",
    "    \n",
    "    if (b*c -a*d) == 0:\n",
    "        if (e*d != f*b or c*e != a*f):#Случай 1\n",
    "            return (0,)\n",
    "        \n",
    "        if (b == d == 0) and (a*f == c*e):#Случай 4\n",
    "            if (a == 0):\n",
    "                x0 = f/c\n",
    "            else:\n",
    "                x0 = e/a\n",
    "            return (3,x0)\n",
    "              \n",
    "        if (a == c == 0) and (b*f == e*d):#Случай 5\n",
    "            if (b == 0):\n",
    "                y0 = f/d\n",
    "            else:\n",
    "                y0 = e/b\n",
    "            return (4,y0)\n",
    "        \n",
    "        if (c == d == f == 0):#Случай 2, нижняя строка нулевая\n",
    "            k = -a/b\n",
    "            coef = e/b\n",
    "            return (1,k,coef)\n",
    "        \n",
    "        if (a == b == e == 0):#Случай 2, верхняя строка нулевая\n",
    "            k = -c/d\n",
    "            coef = f/d\n",
    "            return (1,k,coef)\n",
    "        \n",
    "        k = -a/b\n",
    "        coef = e/b\n",
    "        return (1,k,coef)\n",
    "    \n",
    "    else:\n",
    "        x0 = (e*d - f*b)/(a*d - c*b)\n",
    "        y0 = (c*e - f*a)/(b*c - d*a)\n",
    "        return (2,x0,y0)\n",
    "    \n",
    "test = solve_eq_2(a,b,e,c,d,f)    \n",
    "print(*test, sep=' ')"
   ]
  },
  {
   "cell_type": "code",
   "execution_count": 204,
   "metadata": {},
   "outputs": [],
   "source": [
    "a,b,c,d,e,f = 1, 0, 0, 1, 3, 3\n",
    "#a,b,c,d,e,f = 1, 1, 2, 2, 1, 2\n",
    "#a,b,c,d,e,f = 0, 2, 0, 4, 1, 2\n",
    "#a,b,c,d,e,f = 0, 5, 0, 10, 0, 0"
   ]
  },
  {
   "cell_type": "code",
   "execution_count": 239,
   "metadata": {},
   "outputs": [
    {
     "data": {
      "text/plain": [
       "(1, -0.5, 2.5)"
      ]
     },
     "execution_count": 239,
     "metadata": {},
     "output_type": "execute_result"
    }
   ],
   "source": [
    "solve_eq_2(a,b,e,c,d,f)"
   ]
  }
 ],
 "metadata": {
  "kernelspec": {
   "display_name": "Python 3",
   "language": "python",
   "name": "python3"
  },
  "language_info": {
   "codemirror_mode": {
    "name": "ipython",
    "version": 3
   },
   "file_extension": ".py",
   "mimetype": "text/x-python",
   "name": "python",
   "nbconvert_exporter": "python",
   "pygments_lexer": "ipython3",
   "version": "3.8.5"
  }
 },
 "nbformat": 4,
 "nbformat_minor": 4
}
