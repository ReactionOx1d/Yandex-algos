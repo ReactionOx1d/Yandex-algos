{
 "cells": [
  {
   "cell_type": "code",
   "execution_count": 15,
   "metadata": {},
   "outputs": [
    {
     "name": "stdout",
     "output_type": "stream",
     "text": [
      "2\n",
      "Ololo Ololo\n",
      "Numbers 1234567890\n",
      "Numbers\n"
     ]
    }
   ],
   "source": [
    "#A\n",
    "N = int(input())\n",
    "dictt = {}\n",
    "for i in range(N):\n",
    "    str1, str2 = input().split()\n",
    "    dictt[str1] = str2\n",
    "to_find = input()\n",
    "try:\n",
    "    print(list(dictt.keys())[list(dictt.values()).index(to_find)])\n",
    "except ValueError:\n",
    "    print(dictt[to_find])"
   ]
  },
  {
   "cell_type": "code",
   "execution_count": 39,
   "metadata": {},
   "outputs": [],
   "source": [
    "#B\n",
    "import sys\n",
    "text = sys.stdin.read()\n",
    "my_dict = {}\n",
    "for word in text.split():\n",
    "    if word in my_dict:\n",
    "        my_dict[word] += 1\n",
    "    else:\n",
    "        my_dict[word] = 0\n",
    "    print (my_dict[word])"
   ]
  },
  {
   "cell_type": "code",
   "execution_count": 120,
   "metadata": {},
   "outputs": [
    {
     "name": "stdout",
     "output_type": "stream",
     "text": [
      "oh you touch my tralala mmm my ding ding dong\n"
     ]
    }
   ],
   "source": [
    "#C #Given a dictionary, sort according to descended values, if similar values, then by keys lexicographically. \n",
    "import sys\n",
    "text = sys.stdin.read()\n",
    "my_dict = {}\n",
    "for word in text.split():\n",
    "    if word in my_dict:\n",
    "        my_dict[word] += 1\n",
    "    else:\n",
    "        my_dict[word] = 1\n",
    "res = {val[0] : val[1] for val in sorted(my_dict.items(), key = lambda x: (-x[1], x[0]))}\n",
    "print(list(res)[0])"
   ]
  },
  {
   "cell_type": "code",
   "execution_count": 141,
   "metadata": {},
   "outputs": [
    {
     "name": "stdout",
     "output_type": "stream",
     "text": [
      "5\n",
      "1 50 3 4 3\n",
      "16\n",
      "1 2 3 4 5 1 3 3 4 5 5 5 5 5 4 5\n",
      "YES\n",
      "NO\n",
      "NO\n",
      "NO\n",
      "YES\n"
     ]
    }
   ],
   "source": [
    "#D\n",
    "N = int(input())\n",
    "d = {}\n",
    "seq = list(map(int, input().split()))\n",
    "for i in range(N):\n",
    "    d[i+1] = seq[i]\n",
    "k = int(input())\n",
    "seq_of_pressing = list(map(int, input().split()))\n",
    "for i in range(k):\n",
    "    d[seq_of_pressing[i]] -= 1\n",
    "for key in d:\n",
    "    if (d[key] < 0):\n",
    "        print('YES')\n",
    "    else:\n",
    "        print('NO')"
   ]
  },
  {
   "cell_type": "code",
   "execution_count": 32,
   "metadata": {},
   "outputs": [
    {
     "name": "stdout",
     "output_type": "stream",
     "text": [
      "3\n",
      "3 1\n",
      "3 3\n",
      "2 2\n"
     ]
    }
   ],
   "source": [
    "#E\n",
    "N = int(input())\n",
    "d = {}\n",
    "for i in range(N):\n",
    "    w,h = map(int,input().split())\n",
    "    if w in d:\n",
    "        d[w].append(h)\n",
    "    else:\n",
    "        d[w] = [h]\n",
    "#sort_orders = sorted(d.items(), key=lambda x: x[1], reverse=False)\n",
    "height = 0\n",
    "for num in d:\n",
    "    height += max(num[1])\n",
    "print(height)"
   ]
  },
  {
   "cell_type": "code",
   "execution_count": 27,
   "metadata": {},
   "outputs": [
    {
     "name": "stdout",
     "output_type": "stream",
     "text": [
      "5\n"
     ]
    }
   ],
   "source": [
    "#F\n",
    "import sys\n",
    "\n",
    "\n",
    "for line in sys.stdin:\n",
    "    sales_item = line.split()"
   ]
  },
  {
   "cell_type": "code",
   "execution_count": 58,
   "metadata": {},
   "outputs": [
    {
     "name": "stdout",
     "output_type": "stream",
     "text": [
      "Ivanov paper 10\n",
      "Ivanov paper 7\n",
      "Ivanov marker 3\n",
      "Ivanov envelope 5\n",
      "Petrov pens 5\n",
      "Petrov envelope 20\n"
     ]
    }
   ],
   "source": [
    "import sys\n",
    "d = {}\n",
    "\n",
    "for line_sys in sys.stdin:\n",
    "    line = line_sys.split()\n",
    "    if line[0] in d:\n",
    "        if line[1] in d[line[0]]:\n",
    "            d[line[0]][line[1]] += int(line[2])\n",
    "        else:\n",
    "            d[line[0]][line[1]] = int(line[2])\n",
    "    else:\n",
    "        d[line[0]] = {}\n",
    "        d[line[0]][line[1]] = int(line[2])\n",
    "def sort_dict(item: dict):\n",
    "    return {k: sort_dict(v) if isinstance(v, dict) else v for k, v in sorted(item.items())}\n",
    "sort_d = sort_dict(d)\n",
    "for name in sort_d.items():\n",
    "    print(name[0]+':',)\n",
    "    for obj in name[1].items():\n",
    "        print(obj[0], obj[1])"
   ]
  },
  {
   "cell_type": "code",
   "execution_count": null,
   "metadata": {},
   "outputs": [],
   "source": [
    "#Функция для сортировки словаря словарей. Сортирует все уровни в словаре.\n",
    "def sort_dict(item: dict):\n",
    "    return {k: sort_dict(v) if isinstance(v, dict) else v for k, v in sorted(item.items())}"
   ]
  },
  {
   "cell_type": "code",
   "execution_count": 123,
   "metadata": {},
   "outputs": [],
   "source": [
    "#G\n",
    "import sys\n",
    "def bank_account(operations):\n",
    "    d = {}\n",
    "    res = []\n",
    "    for operation in operations:\n",
    "        if operation[0] == 'DEPOSIT':\n",
    "            if operation[1] in d:\n",
    "                d[operation[1]] += int(operation[2])\n",
    "            else:\n",
    "                d[operation[1]] = int(operation[2])\n",
    "                \n",
    "        elif operation[0] == 'WITHDRAW':\n",
    "            if operation[1] in d:\n",
    "                d[operation[1]] -= int(operation[2])\n",
    "            else:\n",
    "                d[operation[1]] = -int(operation[2])\n",
    "        \n",
    "        elif operation[0] == 'BALANCE':\n",
    "            if operation[1] in d:\n",
    "                res.append(d[operation[1]])\n",
    "            else:\n",
    "                res.append('ERROR')\n",
    "        \n",
    "        elif operation[0] == 'TRANSFER':\n",
    "            if operation[1] not in d:\n",
    "                d[operation[1]] = 0\n",
    "            if operation[2] not in d:\n",
    "                d[operation[2]] = 0\n",
    "            d[operation[1]] -= int(operation[3])\n",
    "            d[operation[2]] += int(operation[3])\n",
    "        \n",
    "        elif operation[0] == 'INCOME':\n",
    "            for num in d.items():\n",
    "                if num[1] > 0:\n",
    "                    d[num[0]] = int(num[1]*(1+int(operation[1])/100))\n",
    "        \n",
    "    return res\n",
    "\n",
    "d = {}\n",
    "operations = [line.split() for line in sys.stdin]  \n",
    "res = bank_account(operations)\n",
    "for p in res:\n",
    "    print(p)"
   ]
  },
  {
   "cell_type": "code",
   "execution_count": 81,
   "metadata": {},
   "outputs": [
    {
     "name": "stdout",
     "output_type": "stream",
     "text": [
      "DEPOSIT Ivanov 100\n",
      "INCOME 5\n",
      "BALANCE Ivanov\n",
      "TRANSFER Ivanov Petrov 50\n",
      "WITHDRAW Petrov 100\n",
      "BALANCE Petrov\n",
      "BALANCE Sidorov\n"
     ]
    }
   ],
   "source": [
    "d = {}\n",
    "operations = []\n",
    "for i in range(7):\n",
    "    operations.append(input().split())"
   ]
  },
  {
   "cell_type": "code",
   "execution_count": 124,
   "metadata": {},
   "outputs": [
    {
     "data": {
      "text/plain": [
       "[105, -50, 'ERROR']"
      ]
     },
     "execution_count": 124,
     "metadata": {},
     "output_type": "execute_result"
    }
   ],
   "source": [
    "bank_account([\n",
    "    ('DEPOSIT', 'Ivanov', '100'),\n",
    "    ('INCOME', '5'),\n",
    "    ('BALANCE', 'Ivanov'),\n",
    "    ('TRANSFER', 'Ivanov', 'Petrov', '50'),\n",
    "    ('WITHDRAW', 'Petrov', '100'),\n",
    "    ('BALANCE', 'Petrov'),\n",
    "    ('BALANCE', 'Sidorov')\n",
    "])"
   ]
  },
  {
   "cell_type": "code",
   "execution_count": null,
   "metadata": {},
   "outputs": [],
   "source": []
  },
  {
   "cell_type": "code",
   "execution_count": null,
   "metadata": {},
   "outputs": [],
   "source": []
  },
  {
   "cell_type": "code",
   "execution_count": null,
   "metadata": {},
   "outputs": [],
   "source": []
  },
  {
   "cell_type": "code",
   "execution_count": null,
   "metadata": {},
   "outputs": [],
   "source": []
  },
  {
   "cell_type": "code",
   "execution_count": null,
   "metadata": {},
   "outputs": [],
   "source": []
  },
  {
   "cell_type": "code",
   "execution_count": null,
   "metadata": {},
   "outputs": [],
   "source": []
  }
 ],
 "metadata": {
  "kernelspec": {
   "display_name": "Python 3",
   "language": "python",
   "name": "python3"
  },
  "language_info": {
   "codemirror_mode": {
    "name": "ipython",
    "version": 3
   },
   "file_extension": ".py",
   "mimetype": "text/x-python",
   "name": "python",
   "nbconvert_exporter": "python",
   "pygments_lexer": "ipython3",
   "version": "3.8.5"
  }
 },
 "nbformat": 4,
 "nbformat_minor": 4
}
